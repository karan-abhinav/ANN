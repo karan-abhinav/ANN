{
  "nbformat": 4,
  "nbformat_minor": 0,
  "metadata": {
    "colab": {
      "name": "ANN.ipynb",
      "provenance": []
    },
    "kernelspec": {
      "name": "python3",
      "display_name": "Python 3"
    },
    "language_info": {
      "name": "python"
    },
    "accelerator": "GPU"
  },
  "cells": [
    {
      "cell_type": "code",
      "metadata": {
        "id": "fynht3021F1Z"
      },
      "source": [
        "# Artificial Neural Network\n",
        "\n",
        "\n",
        "# Part 1 - Data Preprocessing\n",
        "\n",
        "# Importing the libraries\n",
        "import numpy as np\n",
        "import matplotlib.pyplot as plt\n",
        "import pandas as pd\n",
        "\n",
        "# Importing the dataset\n",
        "dataset = pd.read_csv('Churn_Modelling.csv')\n",
        "X = dataset.iloc[:, 3:13]\n",
        "y = dataset.iloc[:, 13]\n",
        "\n",
        "#Create dummy variables\n",
        "geography=pd.get_dummies(X[\"Geography\"],drop_first=True)\n",
        "gender=pd.get_dummies(X['Gender'],drop_first=True)\n",
        "\n",
        "## Concatenate the Data Frames\n",
        "\n",
        "X=pd.concat([X,geography,gender],axis=1)\n",
        "\n",
        "## Drop Unnecessary columns\n",
        "X=X.drop(['Geography','Gender'],axis=1)\n",
        "\n",
        "# Splitting the dataset into the Training set and Test set\n",
        "from sklearn.model_selection import train_test_split\n",
        "X_train, X_test, y_train, y_test = train_test_split(X, y, test_size = 0.2, random_state = 0)\n",
        "\n",
        "# Feature Scaling\n",
        "from sklearn.preprocessing import StandardScaler\n",
        "sc = StandardScaler()\n",
        "X_train = sc.fit_transform(X_train)\n",
        "X_test = sc.transform(X_test)"
      ],
      "execution_count": 1,
      "outputs": []
    },
    {
      "cell_type": "code",
      "metadata": {
        "id": "9-RMqp1X1VHO"
      },
      "source": [
        "## Part 2  - Now let's make an ANN!!\n",
        "\n",
        "# Importing the Keras libraries and packages\n",
        "\n",
        "import keras\n",
        "from keras.models import Sequential\n",
        "from keras.layers import Dense\n",
        "from keras.layers import LeakyReLU,PReLU,ELU\n",
        "from keras.layers import Dropout\n",
        "\n"
      ],
      "execution_count": 2,
      "outputs": []
    },
    {
      "cell_type": "code",
      "metadata": {
        "id": "ThdGYb8c2ic1"
      },
      "source": [
        "## Initialising the ANN\n",
        "classifier = Sequential()"
      ],
      "execution_count": 3,
      "outputs": []
    },
    {
      "cell_type": "code",
      "metadata": {
        "id": "5q_9T5RJ2ifV"
      },
      "source": [
        "## Adding the input layer and the first hidden layers\n",
        "\n",
        "classifier.add(Dense(6,kernel_initializer = 'he_uniform', activation='relu',input_dim = 11))\n",
        "\n",
        "## Adding the Second hidden layer\n",
        "\n",
        "classifier.add(Dense(6, kernel_initializer='he_uniform', activation='relu'))\n",
        "\n",
        "## Adding the Output Layer\n",
        "\n",
        "classifier.add(Dense(1, kernel_initializer='glorot_uniform',activation='sigmoid'))"
      ],
      "execution_count": 7,
      "outputs": []
    },
    {
      "cell_type": "code",
      "metadata": {
        "id": "T8HuxO2C2iiC"
      },
      "source": [
        "## Compiling the ANN\n",
        "\n",
        "classifier.compile(optimizer='Adamax', loss='binary_crossentropy', metrics=['accuracy'])\n"
      ],
      "execution_count": 8,
      "outputs": []
    },
    {
      "cell_type": "code",
      "metadata": {
        "colab": {
          "base_uri": "https://localhost:8080/"
        },
        "id": "UufgcjZP2ik7",
        "outputId": "b16f9815-92fb-4a3a-c78b-1e1ec7535854"
      },
      "source": [
        "## Fitting the ANN to the training Set\n",
        "\n",
        "model_history = classifier.fit(X_train,y_train, validation_split=0.33, batch_size=10, epochs=100)"
      ],
      "execution_count": 9,
      "outputs": [
        {
          "output_type": "stream",
          "text": [
            "Epoch 1/100\n",
            "536/536 [==============================] - 5s 4ms/step - loss: 0.8110 - accuracy: 0.3735 - val_loss: 0.5231 - val_accuracy: 0.7955\n",
            "Epoch 2/100\n",
            "536/536 [==============================] - 2s 3ms/step - loss: 0.5218 - accuracy: 0.7881 - val_loss: 0.5032 - val_accuracy: 0.7955\n",
            "Epoch 3/100\n",
            "536/536 [==============================] - 2s 4ms/step - loss: 0.4938 - accuracy: 0.8023 - val_loss: 0.4982 - val_accuracy: 0.7955\n",
            "Epoch 4/100\n",
            "536/536 [==============================] - 2s 3ms/step - loss: 0.4972 - accuracy: 0.7960 - val_loss: 0.4926 - val_accuracy: 0.7955\n",
            "Epoch 5/100\n",
            "536/536 [==============================] - 2s 3ms/step - loss: 0.4929 - accuracy: 0.7948 - val_loss: 0.4871 - val_accuracy: 0.7955\n",
            "Epoch 6/100\n",
            "536/536 [==============================] - 2s 3ms/step - loss: 0.4828 - accuracy: 0.7989 - val_loss: 0.4818 - val_accuracy: 0.7955\n",
            "Epoch 7/100\n",
            "536/536 [==============================] - 2s 3ms/step - loss: 0.4811 - accuracy: 0.7916 - val_loss: 0.4776 - val_accuracy: 0.7955\n",
            "Epoch 8/100\n",
            "536/536 [==============================] - 2s 3ms/step - loss: 0.4686 - accuracy: 0.7996 - val_loss: 0.4733 - val_accuracy: 0.7955\n",
            "Epoch 9/100\n",
            "536/536 [==============================] - 2s 3ms/step - loss: 0.4687 - accuracy: 0.7974 - val_loss: 0.4687 - val_accuracy: 0.7955\n",
            "Epoch 10/100\n",
            "536/536 [==============================] - 2s 3ms/step - loss: 0.4732 - accuracy: 0.7910 - val_loss: 0.4649 - val_accuracy: 0.7955\n",
            "Epoch 11/100\n",
            "536/536 [==============================] - 2s 3ms/step - loss: 0.4712 - accuracy: 0.7930 - val_loss: 0.4614 - val_accuracy: 0.7955\n",
            "Epoch 12/100\n",
            "536/536 [==============================] - 2s 3ms/step - loss: 0.4710 - accuracy: 0.7874 - val_loss: 0.4586 - val_accuracy: 0.7955\n",
            "Epoch 13/100\n",
            "536/536 [==============================] - 2s 3ms/step - loss: 0.4436 - accuracy: 0.8045 - val_loss: 0.4561 - val_accuracy: 0.7955\n",
            "Epoch 14/100\n",
            "536/536 [==============================] - 2s 3ms/step - loss: 0.4647 - accuracy: 0.7910 - val_loss: 0.4544 - val_accuracy: 0.7955\n",
            "Epoch 15/100\n",
            "536/536 [==============================] - 2s 3ms/step - loss: 0.4341 - accuracy: 0.8065 - val_loss: 0.4525 - val_accuracy: 0.7955\n",
            "Epoch 16/100\n",
            "536/536 [==============================] - 2s 3ms/step - loss: 0.4501 - accuracy: 0.7955 - val_loss: 0.4514 - val_accuracy: 0.7955\n",
            "Epoch 17/100\n",
            "536/536 [==============================] - 2s 3ms/step - loss: 0.4451 - accuracy: 0.7997 - val_loss: 0.4509 - val_accuracy: 0.7955\n",
            "Epoch 18/100\n",
            "536/536 [==============================] - 2s 3ms/step - loss: 0.4352 - accuracy: 0.7968 - val_loss: 0.4493 - val_accuracy: 0.7955\n",
            "Epoch 19/100\n",
            "536/536 [==============================] - 2s 3ms/step - loss: 0.4497 - accuracy: 0.7897 - val_loss: 0.4490 - val_accuracy: 0.7955\n",
            "Epoch 20/100\n",
            "536/536 [==============================] - 2s 3ms/step - loss: 0.4397 - accuracy: 0.7970 - val_loss: 0.4480 - val_accuracy: 0.7955\n",
            "Epoch 21/100\n",
            "536/536 [==============================] - 2s 4ms/step - loss: 0.4396 - accuracy: 0.7967 - val_loss: 0.4469 - val_accuracy: 0.7955\n",
            "Epoch 22/100\n",
            "536/536 [==============================] - 2s 3ms/step - loss: 0.4273 - accuracy: 0.7986 - val_loss: 0.4459 - val_accuracy: 0.7955\n",
            "Epoch 23/100\n",
            "536/536 [==============================] - 2s 3ms/step - loss: 0.4364 - accuracy: 0.7961 - val_loss: 0.4450 - val_accuracy: 0.7955\n",
            "Epoch 24/100\n",
            "536/536 [==============================] - 2s 3ms/step - loss: 0.4279 - accuracy: 0.7968 - val_loss: 0.4445 - val_accuracy: 0.7955\n",
            "Epoch 25/100\n",
            "536/536 [==============================] - 2s 4ms/step - loss: 0.4304 - accuracy: 0.7947 - val_loss: 0.4442 - val_accuracy: 0.7955\n",
            "Epoch 26/100\n",
            "536/536 [==============================] - 2s 3ms/step - loss: 0.4471 - accuracy: 0.7931 - val_loss: 0.4441 - val_accuracy: 0.7955\n",
            "Epoch 27/100\n",
            "536/536 [==============================] - 2s 3ms/step - loss: 0.4281 - accuracy: 0.7972 - val_loss: 0.4433 - val_accuracy: 0.7955\n",
            "Epoch 28/100\n",
            "536/536 [==============================] - 2s 3ms/step - loss: 0.4365 - accuracy: 0.7920 - val_loss: 0.4435 - val_accuracy: 0.7955\n",
            "Epoch 29/100\n",
            "536/536 [==============================] - 2s 3ms/step - loss: 0.4288 - accuracy: 0.7954 - val_loss: 0.4429 - val_accuracy: 0.7955\n",
            "Epoch 30/100\n",
            "536/536 [==============================] - 2s 3ms/step - loss: 0.4145 - accuracy: 0.8031 - val_loss: 0.4422 - val_accuracy: 0.7955\n",
            "Epoch 31/100\n",
            "536/536 [==============================] - 2s 3ms/step - loss: 0.4267 - accuracy: 0.8022 - val_loss: 0.4420 - val_accuracy: 0.7955\n",
            "Epoch 32/100\n",
            "536/536 [==============================] - 2s 3ms/step - loss: 0.4409 - accuracy: 0.7999 - val_loss: 0.4418 - val_accuracy: 0.8046\n",
            "Epoch 33/100\n",
            "536/536 [==============================] - 2s 3ms/step - loss: 0.4152 - accuracy: 0.8156 - val_loss: 0.4415 - val_accuracy: 0.8039\n",
            "Epoch 34/100\n",
            "536/536 [==============================] - 2s 3ms/step - loss: 0.4256 - accuracy: 0.8079 - val_loss: 0.4411 - val_accuracy: 0.8069\n",
            "Epoch 35/100\n",
            "536/536 [==============================] - 2s 3ms/step - loss: 0.4270 - accuracy: 0.8088 - val_loss: 0.4405 - val_accuracy: 0.8065\n",
            "Epoch 36/100\n",
            "536/536 [==============================] - 2s 3ms/step - loss: 0.4055 - accuracy: 0.8155 - val_loss: 0.4398 - val_accuracy: 0.8061\n",
            "Epoch 37/100\n",
            "536/536 [==============================] - 2s 3ms/step - loss: 0.4272 - accuracy: 0.8123 - val_loss: 0.4392 - val_accuracy: 0.8046\n",
            "Epoch 38/100\n",
            "536/536 [==============================] - 2s 3ms/step - loss: 0.4329 - accuracy: 0.8019 - val_loss: 0.4403 - val_accuracy: 0.8092\n",
            "Epoch 39/100\n",
            "536/536 [==============================] - 2s 3ms/step - loss: 0.4123 - accuracy: 0.8213 - val_loss: 0.4379 - val_accuracy: 0.8058\n",
            "Epoch 40/100\n",
            "536/536 [==============================] - 2s 3ms/step - loss: 0.4269 - accuracy: 0.8081 - val_loss: 0.4371 - val_accuracy: 0.8076\n",
            "Epoch 41/100\n",
            "536/536 [==============================] - 2s 3ms/step - loss: 0.4053 - accuracy: 0.8208 - val_loss: 0.4358 - val_accuracy: 0.8076\n",
            "Epoch 42/100\n",
            "536/536 [==============================] - 2s 3ms/step - loss: 0.4231 - accuracy: 0.8075 - val_loss: 0.4355 - val_accuracy: 0.8095\n",
            "Epoch 43/100\n",
            "536/536 [==============================] - 2s 3ms/step - loss: 0.4184 - accuracy: 0.8186 - val_loss: 0.4339 - val_accuracy: 0.8103\n",
            "Epoch 44/100\n",
            "536/536 [==============================] - 2s 3ms/step - loss: 0.4076 - accuracy: 0.8217 - val_loss: 0.4328 - val_accuracy: 0.8126\n",
            "Epoch 45/100\n",
            "536/536 [==============================] - 2s 3ms/step - loss: 0.4016 - accuracy: 0.8279 - val_loss: 0.4317 - val_accuracy: 0.8118\n",
            "Epoch 46/100\n",
            "536/536 [==============================] - 2s 3ms/step - loss: 0.4148 - accuracy: 0.8134 - val_loss: 0.4315 - val_accuracy: 0.8129\n",
            "Epoch 47/100\n",
            "536/536 [==============================] - 2s 3ms/step - loss: 0.3994 - accuracy: 0.8292 - val_loss: 0.4296 - val_accuracy: 0.8133\n",
            "Epoch 48/100\n",
            "536/536 [==============================] - 2s 3ms/step - loss: 0.4080 - accuracy: 0.8206 - val_loss: 0.4294 - val_accuracy: 0.8133\n",
            "Epoch 49/100\n",
            "536/536 [==============================] - 2s 3ms/step - loss: 0.4111 - accuracy: 0.8166 - val_loss: 0.4277 - val_accuracy: 0.8167\n",
            "Epoch 50/100\n",
            "536/536 [==============================] - 2s 3ms/step - loss: 0.4023 - accuracy: 0.8312 - val_loss: 0.4262 - val_accuracy: 0.8167\n",
            "Epoch 51/100\n",
            "536/536 [==============================] - 2s 3ms/step - loss: 0.3948 - accuracy: 0.8304 - val_loss: 0.4250 - val_accuracy: 0.8186\n",
            "Epoch 52/100\n",
            "536/536 [==============================] - 2s 3ms/step - loss: 0.4007 - accuracy: 0.8284 - val_loss: 0.4239 - val_accuracy: 0.8179\n",
            "Epoch 53/100\n",
            "536/536 [==============================] - 2s 3ms/step - loss: 0.4094 - accuracy: 0.8256 - val_loss: 0.4232 - val_accuracy: 0.8156\n",
            "Epoch 54/100\n",
            "536/536 [==============================] - 2s 3ms/step - loss: 0.3997 - accuracy: 0.8319 - val_loss: 0.4219 - val_accuracy: 0.8175\n",
            "Epoch 55/100\n",
            "536/536 [==============================] - 2s 3ms/step - loss: 0.4046 - accuracy: 0.8300 - val_loss: 0.4206 - val_accuracy: 0.8205\n",
            "Epoch 56/100\n",
            "536/536 [==============================] - 2s 3ms/step - loss: 0.4031 - accuracy: 0.8283 - val_loss: 0.4193 - val_accuracy: 0.8205\n",
            "Epoch 57/100\n",
            "536/536 [==============================] - 2s 3ms/step - loss: 0.3846 - accuracy: 0.8451 - val_loss: 0.4177 - val_accuracy: 0.8213\n",
            "Epoch 58/100\n",
            "536/536 [==============================] - 2s 3ms/step - loss: 0.3902 - accuracy: 0.8388 - val_loss: 0.4164 - val_accuracy: 0.8239\n",
            "Epoch 59/100\n",
            "536/536 [==============================] - 2s 3ms/step - loss: 0.3967 - accuracy: 0.8336 - val_loss: 0.4151 - val_accuracy: 0.8247\n",
            "Epoch 60/100\n",
            "536/536 [==============================] - 2s 3ms/step - loss: 0.3925 - accuracy: 0.8398 - val_loss: 0.4133 - val_accuracy: 0.8270\n",
            "Epoch 61/100\n",
            "536/536 [==============================] - 2s 3ms/step - loss: 0.3769 - accuracy: 0.8506 - val_loss: 0.4113 - val_accuracy: 0.8254\n",
            "Epoch 62/100\n",
            "536/536 [==============================] - 2s 3ms/step - loss: 0.3859 - accuracy: 0.8430 - val_loss: 0.4093 - val_accuracy: 0.8254\n",
            "Epoch 63/100\n",
            "536/536 [==============================] - 2s 4ms/step - loss: 0.3835 - accuracy: 0.8434 - val_loss: 0.4079 - val_accuracy: 0.8285\n",
            "Epoch 64/100\n",
            "536/536 [==============================] - 2s 3ms/step - loss: 0.3941 - accuracy: 0.8364 - val_loss: 0.4071 - val_accuracy: 0.8304\n",
            "Epoch 65/100\n",
            "536/536 [==============================] - 2s 3ms/step - loss: 0.3790 - accuracy: 0.8508 - val_loss: 0.4046 - val_accuracy: 0.8270\n",
            "Epoch 66/100\n",
            "536/536 [==============================] - 2s 3ms/step - loss: 0.3666 - accuracy: 0.8597 - val_loss: 0.4028 - val_accuracy: 0.8270\n",
            "Epoch 67/100\n",
            "536/536 [==============================] - 2s 3ms/step - loss: 0.3661 - accuracy: 0.8596 - val_loss: 0.4017 - val_accuracy: 0.8270\n",
            "Epoch 68/100\n",
            "536/536 [==============================] - 2s 3ms/step - loss: 0.3746 - accuracy: 0.8586 - val_loss: 0.4007 - val_accuracy: 0.8281\n",
            "Epoch 69/100\n",
            "536/536 [==============================] - 2s 3ms/step - loss: 0.3740 - accuracy: 0.8561 - val_loss: 0.3983 - val_accuracy: 0.8262\n",
            "Epoch 70/100\n",
            "536/536 [==============================] - 2s 3ms/step - loss: 0.3826 - accuracy: 0.8454 - val_loss: 0.3972 - val_accuracy: 0.8285\n",
            "Epoch 71/100\n",
            "536/536 [==============================] - 2s 3ms/step - loss: 0.3783 - accuracy: 0.8458 - val_loss: 0.3952 - val_accuracy: 0.8285\n",
            "Epoch 72/100\n",
            "536/536 [==============================] - 2s 3ms/step - loss: 0.3686 - accuracy: 0.8501 - val_loss: 0.3943 - val_accuracy: 0.8292\n",
            "Epoch 73/100\n",
            "536/536 [==============================] - 2s 3ms/step - loss: 0.3604 - accuracy: 0.8565 - val_loss: 0.3932 - val_accuracy: 0.8304\n",
            "Epoch 74/100\n",
            "536/536 [==============================] - 2s 3ms/step - loss: 0.3531 - accuracy: 0.8645 - val_loss: 0.3919 - val_accuracy: 0.8300\n",
            "Epoch 75/100\n",
            "536/536 [==============================] - 2s 3ms/step - loss: 0.3676 - accuracy: 0.8485 - val_loss: 0.3911 - val_accuracy: 0.8304\n",
            "Epoch 76/100\n",
            "536/536 [==============================] - 2s 3ms/step - loss: 0.3623 - accuracy: 0.8581 - val_loss: 0.3903 - val_accuracy: 0.8315\n",
            "Epoch 77/100\n",
            "536/536 [==============================] - 2s 3ms/step - loss: 0.3568 - accuracy: 0.8593 - val_loss: 0.3890 - val_accuracy: 0.8323\n",
            "Epoch 78/100\n",
            "536/536 [==============================] - 2s 3ms/step - loss: 0.3577 - accuracy: 0.8615 - val_loss: 0.3882 - val_accuracy: 0.8330\n",
            "Epoch 79/100\n",
            "536/536 [==============================] - 2s 3ms/step - loss: 0.3695 - accuracy: 0.8556 - val_loss: 0.3877 - val_accuracy: 0.8349\n",
            "Epoch 80/100\n",
            "536/536 [==============================] - 2s 3ms/step - loss: 0.3615 - accuracy: 0.8545 - val_loss: 0.3870 - val_accuracy: 0.8338\n",
            "Epoch 81/100\n",
            "536/536 [==============================] - 2s 4ms/step - loss: 0.3578 - accuracy: 0.8495 - val_loss: 0.3864 - val_accuracy: 0.8353\n",
            "Epoch 82/100\n",
            "536/536 [==============================] - 2s 3ms/step - loss: 0.3647 - accuracy: 0.8539 - val_loss: 0.3855 - val_accuracy: 0.8364\n",
            "Epoch 83/100\n",
            "536/536 [==============================] - 2s 3ms/step - loss: 0.3555 - accuracy: 0.8540 - val_loss: 0.3849 - val_accuracy: 0.8364\n",
            "Epoch 84/100\n",
            "536/536 [==============================] - 2s 3ms/step - loss: 0.3541 - accuracy: 0.8570 - val_loss: 0.3837 - val_accuracy: 0.8379\n",
            "Epoch 85/100\n",
            "536/536 [==============================] - 2s 3ms/step - loss: 0.3556 - accuracy: 0.8571 - val_loss: 0.3831 - val_accuracy: 0.8391\n",
            "Epoch 86/100\n",
            "536/536 [==============================] - 2s 4ms/step - loss: 0.3585 - accuracy: 0.8529 - val_loss: 0.3827 - val_accuracy: 0.8391\n",
            "Epoch 87/100\n",
            "536/536 [==============================] - 2s 3ms/step - loss: 0.3567 - accuracy: 0.8525 - val_loss: 0.3825 - val_accuracy: 0.8398\n",
            "Epoch 88/100\n",
            "536/536 [==============================] - 2s 3ms/step - loss: 0.3643 - accuracy: 0.8520 - val_loss: 0.3824 - val_accuracy: 0.8402\n",
            "Epoch 89/100\n",
            "536/536 [==============================] - 2s 3ms/step - loss: 0.3617 - accuracy: 0.8500 - val_loss: 0.3808 - val_accuracy: 0.8387\n",
            "Epoch 90/100\n",
            "536/536 [==============================] - 2s 3ms/step - loss: 0.3645 - accuracy: 0.8512 - val_loss: 0.3808 - val_accuracy: 0.8417\n",
            "Epoch 91/100\n",
            "536/536 [==============================] - 2s 3ms/step - loss: 0.3623 - accuracy: 0.8530 - val_loss: 0.3799 - val_accuracy: 0.8417\n",
            "Epoch 92/100\n",
            "536/536 [==============================] - 2s 3ms/step - loss: 0.3635 - accuracy: 0.8507 - val_loss: 0.3792 - val_accuracy: 0.8417\n",
            "Epoch 93/100\n",
            "536/536 [==============================] - 2s 3ms/step - loss: 0.3585 - accuracy: 0.8527 - val_loss: 0.3783 - val_accuracy: 0.8421\n",
            "Epoch 94/100\n",
            "536/536 [==============================] - 2s 3ms/step - loss: 0.3521 - accuracy: 0.8596 - val_loss: 0.3779 - val_accuracy: 0.8432\n",
            "Epoch 95/100\n",
            "536/536 [==============================] - 2s 3ms/step - loss: 0.3651 - accuracy: 0.8520 - val_loss: 0.3771 - val_accuracy: 0.8451\n",
            "Epoch 96/100\n",
            "536/536 [==============================] - 2s 3ms/step - loss: 0.3586 - accuracy: 0.8522 - val_loss: 0.3768 - val_accuracy: 0.8451\n",
            "Epoch 97/100\n",
            "536/536 [==============================] - 2s 3ms/step - loss: 0.3661 - accuracy: 0.8476 - val_loss: 0.3761 - val_accuracy: 0.8451\n",
            "Epoch 98/100\n",
            "536/536 [==============================] - 2s 3ms/step - loss: 0.3548 - accuracy: 0.8591 - val_loss: 0.3756 - val_accuracy: 0.8440\n",
            "Epoch 99/100\n",
            "536/536 [==============================] - 2s 3ms/step - loss: 0.3526 - accuracy: 0.8548 - val_loss: 0.3749 - val_accuracy: 0.8455\n",
            "Epoch 100/100\n",
            "536/536 [==============================] - 2s 3ms/step - loss: 0.3597 - accuracy: 0.8496 - val_loss: 0.3744 - val_accuracy: 0.8459\n"
          ],
          "name": "stdout"
        }
      ]
    },
    {
      "cell_type": "code",
      "metadata": {
        "colab": {
          "base_uri": "https://localhost:8080/",
          "height": 313
        },
        "id": "KFvv-McY5gzT",
        "outputId": "6b760e6c-13c3-4212-a9e5-acf86744f2df"
      },
      "source": [
        "# list all data in history\n",
        "print(model_history.history.keys())\n",
        "\n",
        "# summarize history for accuracy\n",
        "plt.plot(model_history.history['accuracy'])\n",
        "plt.plot(model_history.history['val_accuracy'])\n",
        "plt.title('model accuracy')\n",
        "plt.ylabel('accuracy')\n",
        "plt.xlabel('epoch')\n",
        "plt.legend(['train', 'test'], loc='upper left')\n",
        "plt.show()\n"
      ],
      "execution_count": 13,
      "outputs": [
        {
          "output_type": "stream",
          "text": [
            "dict_keys(['loss', 'accuracy', 'val_loss', 'val_accuracy'])\n"
          ],
          "name": "stdout"
        },
        {
          "output_type": "display_data",
          "data": {
            "image/png": "[encoded data removed]",
            "text/plain": [
              "<Figure size 432x288 with 1 Axes>"
            ]
          },
          "metadata": {
            "tags": [],
            "needs_background": "light"
          }
        }
      ]
    },
    {
      "cell_type": "code",
      "metadata": {
        "colab": {
          "base_uri": "https://localhost:8080/",
          "height": 295
        },
        "id": "7g8MHFAb6rWt",
        "outputId": "3b2256da-8c76-4c90-c4df-ab420765a0d1"
      },
      "source": [
        "# summarize history for loss\n",
        "plt.plot(model_history.history['loss'])\n",
        "plt.plot(model_history.history['val_loss'])\n",
        "plt.title('model loss')\n",
        "plt.ylabel('loss')\n",
        "plt.xlabel('epoch')\n",
        "plt.legend(['train', 'test'], loc='upper left')\n",
        "plt.show()"
      ],
      "execution_count": 14,
      "outputs": [
        {
          "output_type": "display_data",
          "data": {
            "image/png": "[encoded data removed]",
            "text/plain": [
              "<Figure size 432x288 with 1 Axes>"
            ]
          },
          "metadata": {
            "tags": [],
            "needs_background": "light"
          }
        }
      ]
    },
    {
      "cell_type": "code",
      "metadata": {
        "colab": {
          "base_uri": "https://localhost:8080/"
        },
        "id": "0WcQkimj6yhF",
        "outputId": "06043630-fbad-4feb-edfe-0838409556f1"
      },
      "source": [
        "## Part 3 - Making the prediction and Evaluating the model\n",
        "\n",
        "## Predicting the Test set results\n",
        "y_pred = classifier.predict(X_test)\n",
        "y_pred = (y_pred > 0.5)\n",
        "\n",
        "## Making the Confusion Matrix\n",
        "from sklearn.metrics import confusion_matrix\n",
        "cm = confusion_matrix(y_test,y_pred)\n",
        "cm\n",
        "\n"
      ],
      "execution_count": 17,
      "outputs": [
        {
          "output_type": "execute_result",
          "data": {
            "text/plain": [
              "array([[1485,  110],\n",
              "       [ 201,  204]])"
            ]
          },
          "metadata": {
            "tags": []
          },
          "execution_count": 17
        }
      ]
    },
    {
      "cell_type": "code",
      "metadata": {
        "colab": {
          "base_uri": "https://localhost:8080/"
        },
        "id": "CRMiJu-8749Y",
        "outputId": "8575155a-5ac7-42a9-bf18-9674b97363e9"
      },
      "source": [
        "## Calculate the accuracy\n",
        "from sklearn.metrics import accuracy_score\n",
        "score= accuracy_score(y_pred,y_test)\n",
        "score"
      ],
      "execution_count": 18,
      "outputs": [
        {
          "output_type": "execute_result",
          "data": {
            "text/plain": [
              "0.8445"
            ]
          },
          "metadata": {
            "tags": []
          },
          "execution_count": 18
        }
      ]
    }
  ]
}